{
 "cells": [
  {
   "cell_type": "markdown",
   "metadata": {},
   "source": [
    "### 팀별 투수의 평균..\n",
    "###### ERA 평균자책점\n",
    "###### WHIP 이닝당 안타+볼넷 허용률\n",
    "###### WAR\n",
    "\n",
    "### 팀별 타자의 평군\n",
    "###### SLG 장타율\n",
    "###### OBP 출루율\n",
    "###### WAR\n",
    "\n",
    "### 을 사용하여 MBL의 경기결과를 예측하는 모델을 피클로"
   ]
  },
  {
   "cell_type": "code",
   "execution_count": 1,
   "metadata": {},
   "outputs": [
    {
     "name": "stderr",
     "output_type": "stream",
     "text": [
      "C:\\Users\\103-04\\Anaconda3\\lib\\site-packages\\sklearn\\linear_model\\_logistic.py:940: ConvergenceWarning: lbfgs failed to converge (status=1):\n",
      "STOP: TOTAL NO. of ITERATIONS REACHED LIMIT.\n",
      "\n",
      "Increase the number of iterations (max_iter) or scale the data as shown in:\n",
      "    https://scikit-learn.org/stable/modules/preprocessing.html\n",
      "Please also refer to the documentation for alternative solver options:\n",
      "    https://scikit-learn.org/stable/modules/linear_model.html#logistic-regression\n",
      "  extra_warning_msg=_LOGISTIC_SOLVER_CONVERGENCE_MSG)\n",
      "C:\\Users\\103-04\\Anaconda3\\lib\\site-packages\\sklearn\\metrics\\_classification.py:1272: UndefinedMetricWarning: Precision and F-score are ill-defined and being set to 0.0 in labels with no predicted samples. Use `zero_division` parameter to control this behavior.\n",
      "  _warn_prf(average, modifier, msg_start, len(result))\n"
     ]
    },
    {
     "name": "stdout",
     "output_type": "stream",
     "text": [
      "              precision    recall  f1-score   support\n",
      "\n",
      "        away       0.52      0.27      0.36      5247\n",
      "        home       0.56      0.79      0.66      6219\n",
      "        near       0.00      0.00      0.00        13\n",
      "\n",
      "    accuracy                           0.55     11479\n",
      "   macro avg       0.36      0.35      0.34     11479\n",
      "weighted avg       0.54      0.55      0.52     11479\n",
      "\n"
     ]
    },
    {
     "name": "stderr",
     "output_type": "stream",
     "text": [
      "C:\\Users\\103-04\\Anaconda3\\lib\\site-packages\\sklearn\\metrics\\_classification.py:1272: UndefinedMetricWarning: Recall and F-score are ill-defined and being set to 0.0 in labels with no true samples. Use `zero_division` parameter to control this behavior.\n",
      "  _warn_prf(average, modifier, msg_start, len(result))\n"
     ]
    },
    {
     "name": "stdout",
     "output_type": "stream",
     "text": [
      "              precision    recall  f1-score   support\n",
      "\n",
      "        away       0.28      0.53      0.37      8443\n",
      "        home       0.79      0.56      0.65     25992\n",
      "        near       0.00      0.00      0.00         0\n",
      "\n",
      "    accuracy                           0.55     34435\n",
      "   macro avg       0.36      0.36      0.34     34435\n",
      "weighted avg       0.66      0.55      0.58     34435\n",
      "\n"
     ]
    }
   ],
   "source": [
    "import pandas as pd\n",
    "data = pd.read_csv('data.csv')\n",
    "#필요없는 컬럼제거\n",
    "data = data.drop(['Unnamed: 0','Unnamed: 0.1', 'HOME','AWAY', 'YEAR','TEAM_x', 'TEAM_y','TEAM_x.1','TEAM_y.1','OPS_x', 'OPS_y', 'AVG_x', 'AVG_y'],axis=1)\n",
    "x = data.drop('SCORE', axis=1)\n",
    "y = data.SCORE\n",
    "from BaseballGameResult import result_fnc0\n",
    "y = y.apply(result_fnc0)\n",
    "from sklearn.preprocessing import StandardScaler\n",
    "x_std = StandardScaler().fit_transform(x)\n",
    "from sklearn.model_selection import train_test_split\n",
    "x_train, x_test, y_train,y_test = train_test_split(x_std,y)\n",
    "from sklearn.linear_model import LogisticRegression\n",
    "lr = LogisticRegression()\n",
    "lr.fit(x_train, y_train)\n",
    "pred = lr.predict(x_test)\n",
    "from sklearn.metrics import classification_report\n",
    "report = classification_report(y_test, pred)\n",
    "print(report)\n",
    "# overfit\n",
    "over  = lr.predict(x_train)\n",
    "over_rpt = classification_report(over, y_train)\n",
    "print(over_rpt)"
   ]
  },
  {
   "cell_type": "code",
   "execution_count": 2,
   "metadata": {},
   "outputs": [],
   "source": [
    "import pickle\n",
    "with open('MLBpredictor.pickle', 'wb') as f:\n",
    "    pickle.dump(lr,f)"
   ]
  }
 ],
 "metadata": {
  "kernelspec": {
   "display_name": "Python 3",
   "language": "python",
   "name": "python3"
  },
  "language_info": {
   "codemirror_mode": {
    "name": "ipython",
    "version": 3
   },
   "file_extension": ".py",
   "mimetype": "text/x-python",
   "name": "python",
   "nbconvert_exporter": "python",
   "pygments_lexer": "ipython3",
   "version": "3.7.4"
  }
 },
 "nbformat": 4,
 "nbformat_minor": 4
}
