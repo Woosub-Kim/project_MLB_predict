{
 "cells": [
  {
   "cell_type": "markdown",
   "metadata": {},
   "source": [
    "## WAR 타자"
   ]
  },
  {
   "cell_type": "code",
   "execution_count": 6,
   "metadata": {
    "colab": {
     "base_uri": "https://localhost:8080/",
     "height": 377
    },
    "colab_type": "code",
    "executionInfo": {
     "elapsed": 6097,
     "status": "ok",
     "timestamp": 1584255161304,
     "user": {
      "displayName": "Woosub Kim",
      "photoUrl": "",
      "userId": "17793520919808914555"
     },
     "user_tz": -540
    },
    "id": "_PIRsa-7fmMl",
    "outputId": "e157a3f6-208d-456c-b281-1748f68598d6"
   },
   "outputs": [
    {
     "name": "stdout",
     "output_type": "stream",
     "text": [
      "2000\n",
      "2001\n",
      "2002\n",
      "2003\n",
      "2004\n",
      "2005\n",
      "2006\n",
      "2007\n",
      "2008\n",
      "2009\n",
      "2010\n",
      "2011\n",
      "2012\n",
      "2013\n",
      "2014\n",
      "2015\n",
      "2016\n",
      "2017\n",
      "2018\n",
      "2019\n"
     ]
    }
   ],
   "source": [
    "import pandas as pd\n",
    "for y in range(2000,2020):\n",
    "\n",
    "    df = pd.read_csv('./war/WAR{}.csv'.format(y))[['PLAYER','TEAM','AVG',\t'OBP',\t'SLG',\t'OPS',\t'WAR']]\n",
    "  # 데이터가 없는 컬럼명이 들어있는 row제거\n",
    "    df = df[df.WAR.apply(lambda x: str(x)) != 'WAR']\n",
    "  # string->float\n",
    "    df['bWAR'] = df.WAR.apply(lambda x: float(x))\n",
    "    df['OPS'] = df.OPS.apply(lambda x: float(x))\n",
    "    df['SLG'] = df.SLG.apply(lambda x: float(x))\n",
    "    df['AVG'] = df.AVG.apply(lambda x: float(x))\n",
    "    df['OBP'] = df.OBP.apply(lambda x: float(x))\n",
    "    df.drop('WAR',axis=1)\n",
    "    # WAR 0이상\n",
    "    #df = df[df.WAR.apply(lambda x: float(x))>=0]\n",
    "    # 팀히스토리 컬럼 그 시즌에 거친 팀의 리스트 \n",
    "    df['TEAMHISTORY'] = df.TEAM.apply(lambda x: str(x).split('/'))\n",
    "\n",
    "    # 그해 있었던 팀 리스트 만들기\n",
    "    teamlist = [str(i) for i in df.TEAM.unique() if '/' not in str(i)]\n",
    "    csv = pd.DataFrame()\n",
    "    for t in teamlist:\n",
    "        foo = pd.DataFrame(df[df.TEAMHISTORY.apply(lambda x: t in x)].mean(), columns=[t])\n",
    "        csv = pd.concat([csv, foo], axis=1)\n",
    "        \n",
    "    csv.to_csv('./war/WAR_TEAM_AVG{}.csv'.format(y))\n",
    "    print(y)"
   ]
  },
  {
   "cell_type": "markdown",
   "metadata": {},
   "source": [
    "## WAR 투수"
   ]
  },
  {
   "cell_type": "code",
   "execution_count": 7,
   "metadata": {
    "colab": {
     "base_uri": "https://localhost:8080/",
     "height": 377
    },
    "colab_type": "code",
    "executionInfo": {
     "elapsed": 5825,
     "status": "ok",
     "timestamp": 1584255167141,
     "user": {
      "displayName": "Woosub Kim",
      "photoUrl": "",
      "userId": "17793520919808914555"
     },
     "user_tz": -540
    },
    "id": "gAW1kQP1ifzR",
    "outputId": "2a243d0d-df98-4683-a69d-64e222671f24"
   },
   "outputs": [
    {
     "name": "stdout",
     "output_type": "stream",
     "text": [
      "2000\n",
      "2001\n",
      "2002\n",
      "2003\n",
      "2004\n",
      "2005\n",
      "2006\n",
      "2007\n",
      "2008\n",
      "2009\n",
      "2010\n",
      "2011\n",
      "2012\n",
      "2013\n",
      "2014\n",
      "2015\n",
      "2016\n",
      "2017\n",
      "2018\n",
      "2019\n"
     ]
    }
   ],
   "source": [
    "import pandas as pd\n",
    "for y in range(2000,2020):\n",
    "    foo = pd.DataFrame()\n",
    "    df = pd.read_csv('./war/WAR{}_p.csv'.format(y))[['PLAYER','TEAM','WAR','WHIP','ERA']]\n",
    "    # 데이터가 없는 컬럼명이 들어있는 row제거\n",
    "    df = df[df.WAR.apply(lambda x: str(x)) != 'WAR']\n",
    "    # string->float\n",
    "    df['pWAR'] = df.WAR.apply(lambda x: float(x))\n",
    "    df['WHIP'] = df.WHIP.apply(lambda x: float(x))\n",
    "    df['ERA'] = df.ERA.apply(lambda x: float(x))\n",
    "    df.drop('WAR',axis=1)\n",
    "    # WAR 0이상\n",
    "    #df = df[df.WAR.apply(lambda x: float(x))>=0]\n",
    "    # 팀히스토리 컬럼 그 시즌에 거친 팀의 리스트 \n",
    "    df['TEAMHISTORY'] = df.TEAM.apply(lambda x: str(x).split('/'))\n",
    "\n",
    "    # 그해 있었던 팀 리스트 만들기\n",
    "    teamlist = [str(i) for i in df.TEAM.unique() if '/' not in str(i)]\n",
    "    csv = pd.DataFrame()\n",
    "    for t in teamlist:\n",
    "        foo = pd.DataFrame(df[df.TEAMHISTORY.apply(lambda x: t in x)].mean(), columns=[t])\n",
    "        csv = pd.concat([csv, foo], axis=1)\n",
    "        \n",
    "    csv.to_csv('./war/WAR_TEAM_AVG{}_p.csv'.format(y))\n",
    "    print(y)"
   ]
  },
  {
   "cell_type": "markdown",
   "metadata": {},
   "source": [
    "## 스코어"
   ]
  },
  {
   "cell_type": "code",
   "execution_count": 8,
   "metadata": {
    "colab": {
     "base_uri": "https://localhost:8080/",
     "height": 197
    },
    "colab_type": "code",
    "executionInfo": {
     "elapsed": 2008,
     "status": "ok",
     "timestamp": 1584253591824,
     "user": {
      "displayName": "Woosub Kim",
      "photoUrl": "",
      "userId": "17793520919808914555"
     },
     "user_tz": -540
    },
    "id": "W4Jm9_T1i2tU",
    "outputId": "2ac19221-88d2-46bc-d8a9-0dc42ab378ab"
   },
   "outputs": [
    {
     "name": "stderr",
     "output_type": "stream",
     "text": [
      "C:\\Users\\103-04\\Anaconda3\\lib\\site-packages\\ipykernel_launcher.py:25: SettingWithCopyWarning: \n",
      "A value is trying to be set on a copy of a slice from a DataFrame.\n",
      "Try using .loc[row_indexer,col_indexer] = value instead\n",
      "\n",
      "See the caveats in the documentation: http://pandas.pydata.org/pandas-docs/stable/user_guide/indexing.html#returning-a-view-versus-a-copy\n",
      "C:\\Users\\103-04\\Anaconda3\\lib\\site-packages\\ipykernel_launcher.py:27: SettingWithCopyWarning: \n",
      "A value is trying to be set on a copy of a slice from a DataFrame.\n",
      "Try using .loc[row_indexer,col_indexer] = value instead\n",
      "\n",
      "See the caveats in the documentation: http://pandas.pydata.org/pandas-docs/stable/user_guide/indexing.html#returning-a-view-versus-a-copy\n"
     ]
    }
   ],
   "source": [
    "df = pd.read_csv('MLB_scores.csv')\n",
    "df['RESULT'] = df.RESULT.apply(lambda x: str(x).split('(')[0])\n",
    "df = df[df.RESULT.str.strip() != 'LIVE']\n",
    "df = df[df.RESULT.str.strip() != 'Postponed']\n",
    "df = df[df.RESULT.str.strip() != 'Canceled']\n",
    "df = df[df.RESULT.apply(lambda x: '-' not in str(x))]\n",
    "df = df[df.RESULT.apply(lambda x: 'GAME' not in str(x))]\n",
    "df = df[df.RESULT != 'nan']\n",
    "\n",
    "df['RESULTLIST'] = df.RESULT.apply(lambda x: str(x).split(','))\n",
    "df['RESULTLIST'] = df.RESULTLIST.apply(\n",
    "    lambda x: [ \n",
    "        tuple( x[0].split()),\n",
    "        tuple( x[-1].split())  \n",
    "    ]\n",
    ")\n",
    "df['YEAR'] = df.DATE.apply(lambda x: str(x)[0:4])\n",
    "df['HOME'] = df.HOME.apply(lambda x: x.split()[-1].strip())\n",
    "df['AWAY'] = df.AWAY.apply(lambda x: x.split()[-1].strip())\n",
    "df['winner'] = df.RESULTLIST.apply(lambda x: x[0][0])\n",
    "\n",
    "df_home = df[df.winner == df.HOME]\n",
    "df_away = df[df.winner == df.AWAY]\n",
    "\n",
    "df_home['SCORE'] = df.RESULTLIST.apply(lambda x: int(x[0][-1]) - int(x[-1][-1]))\n",
    "df_home = df_home[['HOME', 'AWAY', 'YEAR', 'SCORE']]\n",
    "df_away['SCORE'] = df.RESULTLIST.apply(lambda x: int(x[-1][-1]) - int(x[0][-1]))\n",
    "df_away = df_away[['HOME', 'AWAY', 'YEAR', 'SCORE']]\n",
    "\n",
    "csv = pd.concat([df_home, df_away])\n",
    "csv.to_csv('MLB_scores_proc.csv')"
   ]
  },
  {
   "cell_type": "markdown",
   "metadata": {},
   "source": [
    "## 스코어와 WAR 조인"
   ]
  },
  {
   "cell_type": "code",
   "execution_count": 9,
   "metadata": {
    "colab": {
     "base_uri": "https://localhost:8080/",
     "height": 816
    },
    "colab_type": "code",
    "executionInfo": {
     "elapsed": 4552,
     "status": "ok",
     "timestamp": 1584255489612,
     "user": {
      "displayName": "Woosub Kim",
      "photoUrl": "",
      "userId": "17793520919808914555"
     },
     "user_tz": -540
    },
    "id": "oQxBgfqSi23g",
    "outputId": "9da65542-e579-4b0c-a5d0-432d6a0fc74b"
   },
   "outputs": [
    {
     "name": "stdout",
     "output_type": "stream",
     "text": [
      "2000\n",
      "2001\n",
      "2002\n",
      "2003\n",
      "2004\n",
      "2005\n",
      "2006\n",
      "2007\n",
      "2008\n",
      "2009\n",
      "2010\n",
      "2011\n",
      "2012\n",
      "2013\n",
      "2014\n",
      "2015\n",
      "2016\n",
      "2017\n",
      "2018\n",
      "2019\n"
     ]
    }
   ],
   "source": [
    "foo = pd.DataFrame()\n",
    "for y in range(2000,2020):\n",
    "    print(y)\n",
    "  \n",
    "    score = pd.read_csv('MLB_scores_proc.csv')\n",
    "    score[score.YEAR == y+1]\n",
    "    score = pd.read_csv('MLB_scores_proc.csv')\n",
    "    score = score[score.YEAR == y-1]\n",
    "    batter_war = pd.read_csv('./war/WAR_TEAM_AVG{}.csv'.format(y)).T\n",
    "    pitcher_war = pd.read_csv('./war/WAR_TEAM_AVG{}_p.csv'.format(y)).T\n",
    "    batter_war.columns = batter_war.iloc[0]\n",
    "    batter_war = batter_war.iloc[1:]\n",
    "    batter_war['TEAM'] = batter_war.index\n",
    "    pitcher_war.columns = pitcher_war.iloc[0]\n",
    "    pitcher_war = pitcher_war.iloc[1:]\n",
    "    pitcher_war['TEAM'] = pitcher_war.index\n",
    "\n",
    "    df = pd.merge(score, batter_war, left_on='HOME', right_on='TEAM')\n",
    "    df = pd.merge(df,batter_war, left_on='AWAY', right_on='TEAM')\n",
    "    df = pd.merge(df, pitcher_war, left_on='HOME', right_on='TEAM')\n",
    "    df = pd.merge(df,pitcher_war, left_on='AWAY', right_on='TEAM')\n",
    "    foo = pd.concat([foo, df])\n",
    "foo.to_csv('data.csv')\n",
    "\n",
    "  "
   ]
  }
 ],
 "metadata": {
  "colab": {
   "authorship_tag": "ABX9TyNsa4O/3GZzlshFPX6sP6uY",
   "collapsed_sections": [],
   "name": "Untitled1.ipynb",
   "provenance": []
  },
  "kernelspec": {
   "display_name": "Python 3",
   "language": "python",
   "name": "python3"
  },
  "language_info": {
   "codemirror_mode": {
    "name": "ipython",
    "version": 3
   },
   "file_extension": ".py",
   "mimetype": "text/x-python",
   "name": "python",
   "nbconvert_exporter": "python",
   "pygments_lexer": "ipython3",
   "version": "3.7.4"
  }
 },
 "nbformat": 4,
 "nbformat_minor": 1
}
