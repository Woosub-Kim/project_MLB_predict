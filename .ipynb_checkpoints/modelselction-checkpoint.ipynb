{
 "cells": [
  {
   "cell_type": "markdown",
   "metadata": {},
   "source": [
    "# Logistic Regression"
   ]
  },
  {
   "cell_type": "code",
   "execution_count": 8,
   "metadata": {
    "scrolled": true
   },
   "outputs": [
    {
     "name": "stderr",
     "output_type": "stream",
     "text": [
      "C:\\Users\\103-04\\Anaconda3\\lib\\site-packages\\sklearn\\linear_model\\_logistic.py:940: ConvergenceWarning: lbfgs failed to converge (status=1):\n",
      "STOP: TOTAL NO. of ITERATIONS REACHED LIMIT.\n",
      "\n",
      "Increase the number of iterations (max_iter) or scale the data as shown in:\n",
      "    https://scikit-learn.org/stable/modules/preprocessing.html\n",
      "Please also refer to the documentation for alternative solver options:\n",
      "    https://scikit-learn.org/stable/modules/linear_model.html#logistic-regression\n",
      "  extra_warning_msg=_LOGISTIC_SOLVER_CONVERGENCE_MSG)\n",
      "C:\\Users\\103-04\\Anaconda3\\lib\\site-packages\\sklearn\\metrics\\_classification.py:1272: UndefinedMetricWarning: Precision and F-score are ill-defined and being set to 0.0 in labels with no predicted samples. Use `zero_division` parameter to control this behavior.\n",
      "  _warn_prf(average, modifier, msg_start, len(result))\n"
     ]
    },
    {
     "name": "stdout",
     "output_type": "stream",
     "text": [
      "              precision    recall  f1-score   support\n",
      "\n",
      "        away       0.53      0.26      0.35      5266\n",
      "        home       0.56      0.81      0.66      6201\n",
      "        near       0.00      0.00      0.00        12\n",
      "\n",
      "    accuracy                           0.56     11479\n",
      "   macro avg       0.37      0.36      0.34     11479\n",
      "weighted avg       0.55      0.56      0.52     11479\n",
      "\n"
     ]
    },
    {
     "name": "stderr",
     "output_type": "stream",
     "text": [
      "C:\\Users\\103-04\\Anaconda3\\lib\\site-packages\\sklearn\\metrics\\_classification.py:1272: UndefinedMetricWarning: Recall and F-score are ill-defined and being set to 0.0 in labels with no true samples. Use `zero_division` parameter to control this behavior.\n",
      "  _warn_prf(average, modifier, msg_start, len(result))\n"
     ]
    },
    {
     "name": "stdout",
     "output_type": "stream",
     "text": [
      "              precision    recall  f1-score   support\n",
      "\n",
      "        away       0.26      0.53      0.35      7852\n",
      "        home       0.80      0.56      0.66     26583\n",
      "        near       0.00      0.00      0.00         0\n",
      "\n",
      "    accuracy                           0.55     34435\n",
      "   macro avg       0.35      0.36      0.34     34435\n",
      "weighted avg       0.68      0.55      0.59     34435\n",
      "\n"
     ]
    }
   ],
   "source": [
    "import pandas as pd\n",
    "data = pd.read_csv('data.csv')\n",
    "#필요없는 컬럼제거\n",
    "data = data.drop(['Unnamed: 0','Unnamed: 0.1', 'HOME','AWAY', 'YEAR','TEAM_x', 'TEAM_y','TEAM_x.1','TEAM_y.1'],axis=1)\n",
    "x = data.drop('SCORE', axis=1)\n",
    "y = data.SCORE\n",
    "from BaseballGameResult import result_fnc0\n",
    "y = y.apply(result_fnc0)\n",
    "from sklearn.preprocessing import StandardScaler\n",
    "x_std = StandardScaler().fit_transform(x)\n",
    "from sklearn.model_selection import train_test_split\n",
    "x_train, x_test, y_train,y_test = train_test_split(x_std,y)\n",
    "from sklearn.linear_model import LogisticRegression\n",
    "lr = LogisticRegression()\n",
    "lr.fit(x_train, y_train)\n",
    "pred = lr.predict(x_test)\n",
    "from sklearn.metrics import classification_report\n",
    "report = classification_report(y_test, pred)\n",
    "print(report)\n",
    "# overfit\n",
    "over  = lr.predict(x_train)\n",
    "over_rpt = classification_report(over, y_train)\n",
    "print(over_rpt)"
   ]
  },
  {
   "cell_type": "markdown",
   "metadata": {},
   "source": [
    "# 서포트 벡터 머신"
   ]
  },
  {
   "cell_type": "code",
   "execution_count": 3,
   "metadata": {
    "scrolled": true
   },
   "outputs": [
    {
     "name": "stderr",
     "output_type": "stream",
     "text": [
      "C:\\Users\\103-04\\Anaconda3\\lib\\site-packages\\sklearn\\metrics\\_classification.py:1272: UndefinedMetricWarning: Precision and F-score are ill-defined and being set to 0.0 in labels with no predicted samples. Use `zero_division` parameter to control this behavior.\n",
      "  _warn_prf(average, modifier, msg_start, len(result))\n"
     ]
    },
    {
     "name": "stdout",
     "output_type": "stream",
     "text": [
      "              precision    recall  f1-score   support\n",
      "\n",
      "        away       0.53      0.20      0.29      5269\n",
      "        home       0.55      0.85      0.67      6199\n",
      "        near       0.00      0.00      0.00        11\n",
      "\n",
      "    accuracy                           0.55     11479\n",
      "   macro avg       0.36      0.35      0.32     11479\n",
      "weighted avg       0.54      0.55      0.50     11479\n",
      "\n"
     ]
    },
    {
     "name": "stderr",
     "output_type": "stream",
     "text": [
      "C:\\Users\\103-04\\Anaconda3\\lib\\site-packages\\sklearn\\metrics\\_classification.py:1272: UndefinedMetricWarning: Recall and F-score are ill-defined and being set to 0.0 in labels with no true samples. Use `zero_division` parameter to control this behavior.\n",
      "  _warn_prf(average, modifier, msg_start, len(result))\n"
     ]
    },
    {
     "name": "stdout",
     "output_type": "stream",
     "text": [
      "              precision    recall  f1-score   support\n",
      "\n",
      "        away       0.24      0.60      0.34      6354\n",
      "        home       0.86      0.57      0.69     28081\n",
      "        near       0.00      0.00      0.00         0\n",
      "\n",
      "    accuracy                           0.57     34435\n",
      "   macro avg       0.37      0.39      0.34     34435\n",
      "weighted avg       0.75      0.57      0.62     34435\n",
      "\n"
     ]
    }
   ],
   "source": [
    "import pandas as pd\n",
    "data = pd.read_csv('data.csv')\n",
    "# 필요없는 컬럼 제거\n",
    "data = data.drop(['Unnamed: 0', 'Unnamed: 0.1', 'HOME','AWAY', 'YEAR','TEAM_x', 'TEAM_y','TEAM_x.1','TEAM_y.1'],axis=1)\n",
    "x = data.drop('SCORE', axis=1)\n",
    "y = data.SCORE\n",
    "from BaseballGameResult import result_fnc0\n",
    "y = y.apply(result_fnc0)\n",
    "from sklearn.preprocessing import StandardScaler\n",
    "x = StandardScaler().fit_transform(x)\n",
    "from sklearn.model_selection import train_test_split\n",
    "x_train, x_test, y_train,y_test = train_test_split(x,y)\n",
    "from sklearn.svm import SVC\n",
    "svc = SVC()\n",
    "svc.fit(x_train, y_train)\n",
    "pred = svc.predict(x_test)\n",
    "from sklearn.metrics import classification_report\n",
    "report = classification_report(y_test, pred)\n",
    "print(report)\n",
    "# overfit\n",
    "over  = svc.predict(x_train)\n",
    "over_rpt = classification_report(over, y_train)\n",
    "print(over_rpt)"
   ]
  },
  {
   "cell_type": "markdown",
   "metadata": {},
   "source": [
    "# KNN"
   ]
  },
  {
   "cell_type": "code",
   "execution_count": 4,
   "metadata": {
    "scrolled": true
   },
   "outputs": [
    {
     "name": "stderr",
     "output_type": "stream",
     "text": [
      "C:\\Users\\103-04\\Anaconda3\\lib\\site-packages\\sklearn\\metrics\\_classification.py:1272: UndefinedMetricWarning: Precision and F-score are ill-defined and being set to 0.0 in labels with no predicted samples. Use `zero_division` parameter to control this behavior.\n",
      "  _warn_prf(average, modifier, msg_start, len(result))\n"
     ]
    },
    {
     "name": "stdout",
     "output_type": "stream",
     "text": [
      "              precision    recall  f1-score   support\n",
      "\n",
      "        away       0.48      0.45      0.47      5237\n",
      "        home       0.56      0.58      0.57      6231\n",
      "        near       0.00      0.00      0.00        11\n",
      "\n",
      "    accuracy                           0.52     11479\n",
      "   macro avg       0.35      0.35      0.35     11479\n",
      "weighted avg       0.52      0.52      0.52     11479\n",
      "\n"
     ]
    },
    {
     "name": "stderr",
     "output_type": "stream",
     "text": [
      "C:\\Users\\103-04\\Anaconda3\\lib\\site-packages\\sklearn\\metrics\\_classification.py:1272: UndefinedMetricWarning: Recall and F-score are ill-defined and being set to 0.0 in labels with no true samples. Use `zero_division` parameter to control this behavior.\n",
      "  _warn_prf(average, modifier, msg_start, len(result))\n"
     ]
    },
    {
     "name": "stdout",
     "output_type": "stream",
     "text": [
      "              precision    recall  f1-score   support\n",
      "\n",
      "        away       0.62      0.66      0.64     14971\n",
      "        home       0.72      0.69      0.70     19464\n",
      "        near       0.00      0.00      0.00         0\n",
      "\n",
      "    accuracy                           0.67     34435\n",
      "   macro avg       0.45      0.45      0.45     34435\n",
      "weighted avg       0.68      0.67      0.68     34435\n",
      "\n"
     ]
    }
   ],
   "source": [
    "import pandas as pd\n",
    "data = pd.read_csv('data.csv')\n",
    "# 필요없는 컬럼 제거\n",
    "data = data.drop(['Unnamed: 0', 'Unnamed: 0.1', 'HOME','AWAY', 'YEAR','TEAM_x', 'TEAM_y','TEAM_x.1','TEAM_y.1'],axis=1)\n",
    "x = data.drop('SCORE', axis=1)\n",
    "y = data.SCORE\n",
    "from BaseballGameResult import result_fnc0\n",
    "y = y.apply(result_fnc0)\n",
    "from sklearn.preprocessing import StandardScaler\n",
    "x = StandardScaler().fit_transform(x)\n",
    "from sklearn.model_selection import train_test_split\n",
    "x_train, x_test, y_train,y_test = train_test_split(x,y)\n",
    "from sklearn.neighbors import KNeighborsClassifier\n",
    "knn = KNeighborsClassifier()\n",
    "knn.fit(x_train, y_train)\n",
    "pred = knn.predict(x_test)\n",
    "from sklearn.metrics import classification_report\n",
    "report = classification_report(y_test, pred)\n",
    "print(report)\n",
    "# overfit\n",
    "over  = knn.predict(x_train)\n",
    "over_rpt = classification_report(over, y_train)\n",
    "print(over_rpt)"
   ]
  },
  {
   "cell_type": "markdown",
   "metadata": {},
   "source": [
    "# 컬럼수 줄이기"
   ]
  },
  {
   "cell_type": "markdown",
   "metadata": {},
   "source": [
    "### ERA 평균자책점\n",
    "### WHIP 이닝당 안타+볼넷 허용률\n",
    "OPS  '출루율 + 장타율\n",
    "### SLG 장타율\n",
    "### OBP 출루율\n",
    "AVG 타율\n",
    "### 투수와 타자의 WAR\n",
    "\n",
    "### OPS와 AVG의 경우 중요도가 떨어진다고 판단하여 제외"
   ]
  },
  {
   "cell_type": "code",
   "execution_count": 25,
   "metadata": {},
   "outputs": [
    {
     "name": "stderr",
     "output_type": "stream",
     "text": [
      "C:\\Users\\103-04\\Anaconda3\\lib\\site-packages\\sklearn\\metrics\\_classification.py:1272: UndefinedMetricWarning: Precision and F-score are ill-defined and being set to 0.0 in labels with no predicted samples. Use `zero_division` parameter to control this behavior.\n",
      "  _warn_prf(average, modifier, msg_start, len(result))\n"
     ]
    },
    {
     "name": "stdout",
     "output_type": "stream",
     "text": [
      "              precision    recall  f1-score   support\n",
      "\n",
      "        away       0.52      0.27      0.36      5219\n",
      "        home       0.57      0.79      0.66      6250\n",
      "        near       0.00      0.00      0.00        10\n",
      "\n",
      "    accuracy                           0.56     11479\n",
      "   macro avg       0.36      0.36      0.34     11479\n",
      "weighted avg       0.55      0.56      0.52     11479\n",
      "\n"
     ]
    },
    {
     "name": "stderr",
     "output_type": "stream",
     "text": [
      "C:\\Users\\103-04\\Anaconda3\\lib\\site-packages\\sklearn\\metrics\\_classification.py:1272: UndefinedMetricWarning: Recall and F-score are ill-defined and being set to 0.0 in labels with no true samples. Use `zero_division` parameter to control this behavior.\n",
      "  _warn_prf(average, modifier, msg_start, len(result))\n"
     ]
    },
    {
     "name": "stdout",
     "output_type": "stream",
     "text": [
      "              precision    recall  f1-score   support\n",
      "\n",
      "        away       0.28      0.53      0.36      8264\n",
      "        home       0.79      0.56      0.65     26171\n",
      "        near       0.00      0.00      0.00         0\n",
      "\n",
      "    accuracy                           0.55     34435\n",
      "   macro avg       0.36      0.36      0.34     34435\n",
      "weighted avg       0.67      0.55      0.58     34435\n",
      "\n"
     ]
    }
   ],
   "source": [
    "import pandas as pd\n",
    "data = pd.read_csv('data.csv')\n",
    "#필요없는 컬럼제거\n",
    "data = data.drop(['Unnamed: 0','Unnamed: 0.1', 'HOME','AWAY', 'YEAR','TEAM_x', 'TEAM_y','TEAM_x.1','TEAM_y.1','OPS_x', 'OPS_y', 'AVG_x', 'AVG_y'],axis=1)\n",
    "x = data.drop('SCORE', axis=1)\n",
    "y = data.SCORE\n",
    "from BaseballGameResult import result_fnc0\n",
    "y = y.apply(result_fnc0)\n",
    "from sklearn.preprocessing import StandardScaler\n",
    "x_std = StandardScaler().fit_transform(x)\n",
    "from sklearn.model_selection import train_test_split\n",
    "x_train, x_test, y_train,y_test = train_test_split(x_std,y)\n",
    "from sklearn.linear_model import LogisticRegression\n",
    "lr = LogisticRegression()\n",
    "lr.fit(x_train, y_train)\n",
    "pred = lr.predict(x_test)\n",
    "from sklearn.metrics import classification_report\n",
    "report = classification_report(y_test, pred)\n",
    "print(report)\n",
    "# overfit\n",
    "over  = lr.predict(x_train)\n",
    "over_rpt = classification_report(over, y_train)\n",
    "print(over_rpt)"
   ]
  }
 ],
 "metadata": {
  "kernelspec": {
   "display_name": "Python 3",
   "language": "python",
   "name": "python3"
  },
  "language_info": {
   "codemirror_mode": {
    "name": "ipython",
    "version": 3
   },
   "file_extension": ".py",
   "mimetype": "text/x-python",
   "name": "python",
   "nbconvert_exporter": "python",
   "pygments_lexer": "ipython3",
   "version": "3.7.4"
  }
 },
 "nbformat": 4,
 "nbformat_minor": 4
}
